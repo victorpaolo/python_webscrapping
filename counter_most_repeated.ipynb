{
 "cells": [
  {
   "cell_type": "code",
   "execution_count": 168,
   "metadata": {},
   "outputs": [
    {
     "name": "stdout",
     "output_type": "stream",
     "text": [
      "La Demencia Senil hace referencia a un estado de deterioro de las funciones cognitivas e intelectuales de la persona suficientemente severas para afectar a sus actividades diarias y relaciones sociales. Este estado es debido al envejecimiento Actualmente, la Demencia Senil afecta a más de 50 millones en el mundo y, los investigadores prevén que esta cifra se habrá multiplicado en 2050 a 152 millones de personas. En España ya son más de 1,3 millones de personas afectadas por la Demencia Senil. El 60% de los afectados por la Demencia Senil padecen de la enfermedad de Alzheimer, otros padecen Parkinson. Síntomas Demencia Senil\n",
      "631\n"
     ]
    }
   ],
   "source": [
    "texto = 'La Demencia Senil hace referencia a un estado de deterioro de las funciones cognitivas e intelectuales de la persona suficientemente severas para afectar a sus actividades diarias y relaciones sociales. Este estado es debido al envejecimiento Actualmente, la Demencia Senil afecta a más de 50 millones en el mundo y, los investigadores prevén que esta cifra se habrá multiplicado en 2050 a 152 millones de personas. En España ya son más de 1,3 millones de personas afectadas por la Demencia Senil. El 60% de los afectados por la Demencia Senil padecen de la enfermedad de Alzheimer, otros padecen Parkinson. Síntomas Demencia Senil'\n",
    "print(texto)\n",
    "print(len(texto))"
   ]
  },
  {
   "cell_type": "code",
   "execution_count": 169,
   "metadata": {},
   "outputs": [
    {
     "name": "stdout",
     "output_type": "stream",
     "text": [
      "la demencia senil hace referencia a un estado de deterioro de las funciones cognitivas e intelectuales de la persona suficientemente severas para afectar a sus actividades diarias y relaciones sociales. este estado es debido al envejecimiento actualmente, la demencia senil afecta a más de 50 millones en el mundo y, los investigadores prevén que esta cifra se habrá multiplicado en 2050 a 152 millones de personas. en españa ya son más de 1,3 millones de personas afectadas por la demencia senil. el 60% de los afectados por la demencia senil padecen de la enfermedad de alzheimer, otros padecen parkinson. síntomas demencia senil\n",
      "631\n"
     ]
    }
   ],
   "source": [
    "texto_lower = texto.lower()\n",
    "print(texto_lower)\n",
    "print(len(texto_lower))"
   ]
  },
  {
   "cell_type": "code",
   "execution_count": 170,
   "metadata": {},
   "outputs": [
    {
     "name": "stdout",
     "output_type": "stream",
     "text": [
      "['la', 'demencia', 'senil', 'hace', 'referencia', 'a', 'un', 'estado', 'de', 'deterioro', 'de', 'las', 'funciones', 'cognitivas', 'e', 'intelectuales', 'de', 'la', 'persona', 'suficientemente', 'severas', 'para', 'afectar', 'a', 'sus', 'actividades', 'diarias', 'y', 'relaciones', 'sociales.', 'este', 'estado', 'es', 'debido', 'al', 'envejecimiento', 'actualmente,', 'la', 'demencia', 'senil', 'afecta', 'a', 'más', 'de', '50', 'millones', 'en', 'el', 'mundo', 'y,', 'los', 'investigadores', 'prevén', 'que', 'esta', 'cifra', 'se', 'habrá', 'multiplicado', 'en', '2050', 'a', '152', 'millones', 'de', 'personas.', 'en', 'españa', 'ya', 'son', 'más', 'de', '1,3', 'millones', 'de', 'personas', 'afectadas', 'por', 'la', 'demencia', 'senil.', 'el', '60%', 'de', 'los', 'afectados', 'por', 'la', 'demencia', 'senil', 'padecen', 'de', 'la', 'enfermedad', 'de', 'alzheimer,', 'otros', 'padecen', 'parkinson.', 'síntomas', 'demencia', 'senil']\n",
      "102\n"
     ]
    }
   ],
   "source": [
    "split_texto = texto_lower.split()\n",
    "print(split_texto)\n",
    "print(len(split_texto))"
   ]
  },
  {
   "cell_type": "code",
   "execution_count": 171,
   "metadata": {},
   "outputs": [
    {
     "name": "stdout",
     "output_type": "stream",
     "text": [
      "['demencia', 'senil', 'hace', 'referencia', 'un', 'estado', 'deterioro', 'funciones', 'cognitivas', 'e', 'intelectuales', 'persona', 'suficientemente', 'severas', 'para', 'afectar', 'sus', 'actividades', 'diarias', 'y', 'relaciones', 'sociales.', 'este', 'estado', 'es', 'debido', 'al', 'envejecimiento', 'actualmente,', 'demencia', 'senil', 'afecta', 'más', '50', 'millones', 'mundo', 'y,', 'investigadores', 'prevén', 'que', 'esta', 'cifra', 'se', 'habrá', 'multiplicado', '2050', '152', 'millones', 'personas.', 'españa', 'ya', 'son', 'más', '1,3', 'millones', 'personas', 'afectadas', 'demencia', 'senil.', '60%', 'afectados', 'demencia', 'senil', 'padecen', 'enfermedad', 'alzheimer,', 'otros', 'padecen', 'parkinson.', 'síntomas', 'demencia', 'senil']\n",
      "72\n"
     ]
    }
   ],
   "source": [
    "delete_elements = ['a','la','de','en','el','las','los','por']\n",
    "texto_deleted  = [word for word in split_texto if word.lower() not in delete_elements]\n",
    "print(texto_deleted)\n",
    "print(len(texto_deleted))"
   ]
  },
  {
   "cell_type": "code",
   "execution_count": 172,
   "metadata": {},
   "outputs": [
    {
     "name": "stdout",
     "output_type": "stream",
     "text": [
      "[('demencia', 5), ('senil', 4), ('millones', 3), ('estado', 2), ('más', 2), ('padecen', 2), ('hace', 1), ('referencia', 1), ('un', 1), ('deterioro', 1)]\n"
     ]
    }
   ],
   "source": [
    "from collections import Counter\n",
    "Counter = Counter(texto_deleted)\n",
    "most_occur = Counter.most_common(10)\n",
    "print(most_occur)"
   ]
  },
  {
   "cell_type": "code",
   "execution_count": 173,
   "metadata": {},
   "outputs": [
    {
     "name": "stdout",
     "output_type": "stream",
     "text": [
      "5\n"
     ]
    }
   ],
   "source": [
    "print(format(texto_deleted.count('demencia')))"
   ]
  },
  {
   "cell_type": "code",
   "execution_count": null,
   "metadata": {},
   "outputs": [],
   "source": []
  }
 ],
 "metadata": {
  "kernelspec": {
   "display_name": "Python 3",
   "language": "python",
   "name": "python3"
  },
  "language_info": {
   "codemirror_mode": {
    "name": "ipython",
    "version": 3
   },
   "file_extension": ".py",
   "mimetype": "text/x-python",
   "name": "python",
   "nbconvert_exporter": "python",
   "pygments_lexer": "ipython3",
   "version": "3.7.6"
  }
 },
 "nbformat": 4,
 "nbformat_minor": 4
}
